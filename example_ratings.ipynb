{
 "cells": [
  {
   "cell_type": "code",
   "execution_count": 1,
   "metadata": {},
   "outputs": [],
   "source": [
    "# importing packages\n",
    "import numpy as np\n",
    "import pandas as pd\n",
    "import PyBondLab as pbl"
   ]
  },
  {
   "cell_type": "code",
   "execution_count": 2,
   "metadata": {},
   "outputs": [
    {
     "data": {
      "text/plain": [
       "Index(['UNNAMED: 0', 'DATE', 'ISSUE_ID', 'CUSIP', 'RATING_NUM', 'RET_L5M',\n",
       "       'AMOUNT_OUTSTANDING', 'TMT', 'N_SP', 'PRICE_L5M', 'PRICE_EOM',\n",
       "       'RET_EOM', 'T_SPREAD', 'YIELD', 'RET_LDM', 'PRICE_LDM', 'date', 'VW'],\n",
       "      dtype='object')"
      ]
     },
     "execution_count": 2,
     "metadata": {},
     "output_type": "execute_result"
    }
   ],
   "source": [
    "# loading the data\n",
    "tbl1 =  pd.read_csv(r'~/Dropbox/NIG_momentum/bondret_new.csv')\n",
    "\n",
    "tbl1.columns = tbl1.columns.str.upper()\n",
    "tbl1['date'] = pd.to_datetime(tbl1['DATE'])   # creating column with datetime dates\n",
    "\n",
    "tbl1['AMOUNT_OUTSTANDING'] = np.abs(tbl1['AMOUNT_OUTSTANDING']) # positive amount outstanding\n",
    "tbl1['PRICE_L5M'] = np.abs(tbl1['PRICE_L5M'])                   # positive prices\n",
    "tbl1 = tbl1.sort_values(['ISSUE_ID','DATE'])\n",
    "tbl1      = tbl1[tbl1['date'] >= \"2002-08-31\"]                  # start sample in august 2002\n",
    "\n",
    "tbl1['VW'] = (tbl1['PRICE_L5M'] * tbl1['AMOUNT_OUTSTANDING'])/1000 # column for value weighted computations\n",
    "tbl1.columns"
   ]
  },
  {
   "cell_type": "markdown",
   "metadata": {},
   "source": [
    "Initialize the strategy. We want to sort bonds according to their rating in 5 portfolios. The strategy has a holding period of 1 month.\n",
    "The sorting is done with respect to the `RATING_NUM` column."
   ]
  },
  {
   "cell_type": "code",
   "execution_count": 3,
   "metadata": {},
   "outputs": [
    {
     "name": "stdout",
     "output_type": "stream",
     "text": [
      "-----------------------------------\n",
      "Initializing strategy (single sort):\n",
      "Holding period: 1 \n",
      "Number of portfolios: 5 \n",
      "Sorting on: RATING_NUM\n",
      "-----------------------------------\n"
     ]
    }
   ],
   "source": [
    "holding_period = 1             # holding period returns\n",
    "n_portf        = 5             # number of portfolios\n",
    "sort_var1      = 'RATING_NUM'  # sorting chararcteristic/variable\n",
    "# initialize the strategy\n",
    "single_sort = pbl.SingleSort(holding_period, sort_var1, n_portf)"
   ]
  },
  {
   "cell_type": "markdown",
   "metadata": {},
   "source": [
    "Next, we create a dictionary to input parameters.\n",
    "In the `\"strategy\"` key we input the strategy initialized before\n",
    "In the `\"rating\"` key we specify if we want to filter out bonds. Possible inputs are `None`,`\"IG\"`,`\"NIG\"` to include all bonds, investment grade bonds, or non investment-grade bonds respectively.\n",
    "\n",
    "if we want to apply filtering rules (see README):\n",
    "In the `\"filters\"` key we specify a dictionary. In this example, we exclude bonds whose returns are greater than 20%"
   ]
  },
  {
   "cell_type": "code",
   "execution_count": null,
   "metadata": {},
   "outputs": [],
   "source": [
    "params = {'strategy': single_sort,\n",
    "          'rating':None,\n",
    "          'filters':{\"adj\":\"trim\",\"level\":0.2},\n",
    "}"
   ]
  }
 ],
 "metadata": {
  "kernelspec": {
   "display_name": "base",
   "language": "python",
   "name": "python3"
  },
  "language_info": {
   "codemirror_mode": {
    "name": "ipython",
    "version": 3
   },
   "file_extension": ".py",
   "mimetype": "text/x-python",
   "name": "python",
   "nbconvert_exporter": "python",
   "pygments_lexer": "ipython3",
   "version": "3.11.7"
  }
 },
 "nbformat": 4,
 "nbformat_minor": 2
}
