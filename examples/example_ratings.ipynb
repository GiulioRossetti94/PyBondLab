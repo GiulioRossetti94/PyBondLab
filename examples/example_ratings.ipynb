{
 "cells": [
  {
   "cell_type": "code",
   "execution_count": 9,
   "metadata": {},
   "outputs": [],
   "source": [
    "# importing packages\n",
    "%matplotlib inline\n",
    "import numpy as np\n",
    "import pandas as pd\n",
    "import wrds\n",
    "import PyBondLab as pbl\n"
   ]
  },
  {
   "cell_type": "markdown",
   "metadata": {},
   "source": [
    "# Load the data\n",
    "we use `'ISSUE_ID'` column as the bond identifier and `'RET_L5M'` column for bond returns in the fit() method.\n",
    "Alternatively, you can rename columns as `\"ID\"` and `\"ret\"` and just call the .fit() method later"
   ]
  },
  {
   "cell_type": "code",
   "execution_count": 10,
   "metadata": {},
   "outputs": [
    {
     "name": "stdout",
     "output_type": "stream",
     "text": [
      "WRDS recommends setting up a .pgpass file.\n",
      "You can create this file yourself at any time with the create_pgpass_file() function.\n",
      "Loading library list...\n",
      "Done\n"
     ]
    }
   ],
   "source": [
    "# =============================================================================\n",
    "# Option 1: access data directly from WRDS\n",
    "# =============================================================================\n",
    "# Assumes you have a valid WRDS account and have set-up your cloud access #\n",
    "# See:\n",
    "# https://wrds-www.wharton.upenn.edu/pages/support/programming-wrds/programming-python/python-wrds-cloud/\n",
    "wrds_username = '' # Input your WRDS username\n",
    "db = wrds.Connection(wrds_username = wrds_username )\n",
    "\n",
    "tbl1 = db.raw_sql(\"\"\"SELECT  DATE, ISSUE_ID,CUSIP, RATING_NUM, RET_L5M,AMOUNT_OUTSTANDING,\n",
    "                                TMT, N_SP, PRICE_L5M                         \n",
    "                        FROM wrdsapps.bondret\n",
    "                  \"\"\")\n",
    "# Required because the WRDS data comes with \"duplicates\" in the index\n",
    "# does not affect data, but the \"index\" needs to be re-defined #                 \n",
    "tbl1 = tbl1.reset_index()\n",
    "tbl1['index'] = range(1,(len(tbl1)+1))\n",
    "\n",
    "# =============================================================================\n",
    "# Option 2: Load any bond dataset you have saved to file\n",
    "# =============================================================================\n",
    "# file = '' # Input your file name, assumed to be saved as .csv #\n",
    "# tbl1         =  pd.read_csv(file)\n",
    "\n",
    "tbl1['index'] = range(1,(len(tbl1)+1))\n",
    "# ============================================================================="
   ]
  },
  {
   "cell_type": "code",
   "execution_count": 11,
   "metadata": {},
   "outputs": [],
   "source": [
    "# Format the data\n",
    "tbl1.columns = tbl1.columns.str.upper()\n",
    "tbl1['date'] = pd.to_datetime(tbl1['DATE'])\n",
    "tbl1['AMOUNT_OUTSTANDING'] = np.abs(tbl1['AMOUNT_OUTSTANDING'])\n",
    "tbl1['PRICE_L5M'] = np.abs(tbl1['PRICE_L5M'])\n",
    "tbl1 = tbl1.sort_values(['ISSUE_ID','DATE'])\n",
    "\n",
    "# WRDS data \"starts\" officially on \"2002-08-31\"\n",
    "tbl1 = tbl1[tbl1['date'] >= \"2002-08-31\"]\n",
    "\n",
    "# Column used for value weigted returns\n",
    "tbl1['VW'] = (tbl1['PRICE_L5M'] * tbl1['AMOUNT_OUTSTANDING'])/1000\n"
   ]
  },
  {
   "cell_type": "markdown",
   "metadata": {},
   "source": [
    "Initialize the strategy. We want to sort bonds according to their rating in 5 portfolios. The strategy has a holding period of 1 month.\n",
    "The sorting is done with respect to the `RATING_NUM` column."
   ]
  },
  {
   "cell_type": "code",
   "execution_count": 12,
   "metadata": {},
   "outputs": [
    {
     "name": "stdout",
     "output_type": "stream",
     "text": [
      "-----------------------------------\n",
      "Initializing strategy (single sort):\n",
      "Holding period: 1 \n",
      "Number of portfolios: 5 \n",
      "Sorting on: RATING_NUM\n",
      "-----------------------------------\n"
     ]
    }
   ],
   "source": [
    "holding_period = 1             # holding period returns\n",
    "n_portf        = 5             # number of portfolios\n",
    "sort_var1      = 'RATING_NUM'  # sorting chararcteristic/variable\n",
    "# initialize the strategy\n",
    "single_sort = pbl.SingleSort(holding_period, sort_var1, n_portf)"
   ]
  },
  {
   "cell_type": "markdown",
   "metadata": {},
   "source": [
    "Next, we create a dictionary to input parameters.\n",
    "In the `\"strategy\"` key we input the strategy initialized before\n",
    "In the `\"rating\"` key we specify if we want to filter out bonds. Possible inputs are `None`,`\"IG\"`,`\"NIG\"` to include all bonds, investment grade bonds, or non investment-grade bonds respectively.\n",
    "\n",
    "if we want to apply filtering rules (see README):\n",
    "In the `\"filters\"` key we specify a dictionary. In this example, we exclude bonds whose returns are greater than 20%.\n",
    "\n",
    "Then use the StrategyConstruction with the data and the parameters to build the strategy"
   ]
  },
  {
   "cell_type": "code",
   "execution_count": 13,
   "metadata": {},
   "outputs": [
    {
     "name": "stdout",
     "output_type": "stream",
     "text": [
      "no bonds at time 253:2023-09-30 00:00:00. Going to next period.\n",
      "no bonds at time 254:2023-10-31 00:00:00. Going to next period.\n",
      "no bonds at time 255:2023-11-30 00:00:00. Going to next period.\n",
      "no bonds at time 256:2023-12-31 00:00:00. Going to next period.\n",
      "no bonds at time 257:2024-01-31 00:00:00. Going to next period.\n"
     ]
    }
   ],
   "source": [
    "# parameters\n",
    "params = {'strategy': single_sort,\n",
    "          'rating':None,\n",
    "          'chars':['TMT' ,'N_SP','AMOUNT_OUTSTANDING'],\n",
    "          'filters':{\"adj\":\"trim\",\"level\":0.2},\n",
    "}\n",
    "\n",
    "data = tbl1.copy()\n",
    "# Fit the strategy to the data. Specify ID identifier and column of returns \n",
    "RESULTS = pbl.StrategyFormation(data, **params).fit(IDvar = \"ISSUE_ID\",RETvar = \"RET_L5M\")"
   ]
  },
  {
   "cell_type": "markdown",
   "metadata": {},
   "source": [
    "plot() can be used to visualize the cumulative performance of the strategies.\n",
    "If some filtering is applied, you can quickly compare the performance with ex ante and ex post exclusions"
   ]
  },
  {
   "cell_type": "code",
   "execution_count": 14,
   "metadata": {},
   "outputs": [
    {
     "data": {
      "text/plain": [
       "<Axes: title={'center': 'Equally-weighted cumulative performance'}, xlabel='Date', ylabel='Value ($)'>"
      ]
     },
     "execution_count": 14,
     "metadata": {},
     "output_type": "execute_result"
    },
    {
     "data": {
      "image/png": "[encoded data removed]",
      "text/plain": [
       "<Figure size 640x480 with 1 Axes>"
      ]
     },
     "metadata": {},
     "output_type": "display_data"
    }
   ],
   "source": [
    "RESULTS.plot()"
   ]
  },
  {
   "cell_type": "markdown",
   "metadata": {},
   "source": [
    "to retrive the long short portfolio returns use the get_long_short() method\n",
    "get_long_leg() and get_short_leg() methods are used to retrieve the long and short leg of the portfolio respectively.\n",
    "[get_long_leg_ex_post() and get_short_leg_ex_post() for the ex post counterpart]"
   ]
  },
  {
   "cell_type": "code",
   "execution_count": 15,
   "metadata": {},
   "outputs": [
    {
     "data": {
      "text/html": [
       "<div>\n",
       "<style scoped>\n",
       "    .dataframe tbody tr th:only-of-type {\n",
       "        vertical-align: middle;\n",
       "    }\n",
       "\n",
       "    .dataframe tbody tr th {\n",
       "        vertical-align: top;\n",
       "    }\n",
       "\n",
       "    .dataframe thead th {\n",
       "        text-align: right;\n",
       "    }\n",
       "</style>\n",
       "<table border=\"1\" class=\"dataframe\">\n",
       "  <thead>\n",
       "    <tr style=\"text-align: right;\">\n",
       "      <th></th>\n",
       "      <th>EWEA_ALL_1_trim_0.2</th>\n",
       "    </tr>\n",
       "  </thead>\n",
       "  <tbody>\n",
       "    <tr>\n",
       "      <th>2002-08-31</th>\n",
       "      <td>NaN</td>\n",
       "    </tr>\n",
       "    <tr>\n",
       "      <th>2002-09-30</th>\n",
       "      <td>-0.025441</td>\n",
       "    </tr>\n",
       "    <tr>\n",
       "      <th>2002-10-31</th>\n",
       "      <td>0.015329</td>\n",
       "    </tr>\n",
       "    <tr>\n",
       "      <th>2002-11-30</th>\n",
       "      <td>0.096273</td>\n",
       "    </tr>\n",
       "    <tr>\n",
       "      <th>2002-12-31</th>\n",
       "      <td>0.010775</td>\n",
       "    </tr>\n",
       "    <tr>\n",
       "      <th>...</th>\n",
       "      <td>...</td>\n",
       "    </tr>\n",
       "    <tr>\n",
       "      <th>2023-10-31</th>\n",
       "      <td>NaN</td>\n",
       "    </tr>\n",
       "    <tr>\n",
       "      <th>2023-11-30</th>\n",
       "      <td>NaN</td>\n",
       "    </tr>\n",
       "    <tr>\n",
       "      <th>2023-12-31</th>\n",
       "      <td>NaN</td>\n",
       "    </tr>\n",
       "    <tr>\n",
       "      <th>2024-01-31</th>\n",
       "      <td>NaN</td>\n",
       "    </tr>\n",
       "    <tr>\n",
       "      <th>2024-02-29</th>\n",
       "      <td>NaN</td>\n",
       "    </tr>\n",
       "  </tbody>\n",
       "</table>\n",
       "<p>259 rows × 1 columns</p>\n",
       "</div>"
      ],
      "text/plain": [
       "            EWEA_ALL_1_trim_0.2\n",
       "2002-08-31                  NaN\n",
       "2002-09-30            -0.025441\n",
       "2002-10-31             0.015329\n",
       "2002-11-30             0.096273\n",
       "2002-12-31             0.010775\n",
       "...                         ...\n",
       "2023-10-31                  NaN\n",
       "2023-11-30                  NaN\n",
       "2023-12-31                  NaN\n",
       "2024-01-31                  NaN\n",
       "2024-02-29                  NaN\n",
       "\n",
       "[259 rows x 1 columns]"
      ]
     },
     "execution_count": 15,
     "metadata": {},
     "output_type": "execute_result"
    }
   ],
   "source": [
    "ew,vw = RESULTS.get_long_short()\n",
    "# ew_expost, vw_expost = RESULTS.get_long_short_expost()\n",
    "ew "
   ]
  },
  {
   "cell_type": "markdown",
   "metadata": {},
   "source": [
    "you can see some summary statistics of the bonds that are filtered out"
   ]
  },
  {
   "cell_type": "code",
   "execution_count": 17,
   "metadata": {},
   "outputs": [
    {
     "name": "stdout",
     "output_type": "stream",
     "text": [
      "Unexpected exception formatting exception. Falling back to standard exception\n"
     ]
    },
    {
     "name": "stderr",
     "output_type": "stream",
     "text": [
      "/Users/u1972481/Documents/dev/PyBondLab-Dev/PyBondLab/PyBondLab.py:1012: SettingWithCopyWarning: \n",
      "A value is trying to be set on a copy of a slice from a DataFrame.\n",
      "Try using .loc[row_indexer,col_indexer] = value instead\n",
      "\n",
      "See the caveats in the documentation: https://pandas.pydata.org/pandas-docs/stable/user_guide/indexing.html#returning-a-view-versus-a-copy\n",
      "  df['rating_cat'] = np.where(df['RATING_NUM']>10, 'NIG','IG')\n",
      "Traceback (most recent call last):\n",
      "  File \"/opt/anaconda3/lib/python3.11/site-packages/pandas/core/indexes/base.py\", line 3805, in get_loc\n",
      "    return self._engine.get_loc(casted_key)\n",
      "           ^^^^^^^^^^^^^^^^^^^^^^^^^^^^^^^^\n",
      "  File \"index.pyx\", line 167, in pandas._libs.index.IndexEngine.get_loc\n",
      "  File \"index.pyx\", line 196, in pandas._libs.index.IndexEngine.get_loc\n",
      "  File \"pandas/_libs/hashtable_class_helper.pxi\", line 7081, in pandas._libs.hashtable.PyObjectHashTable.get_item\n",
      "  File \"pandas/_libs/hashtable_class_helper.pxi\", line 7089, in pandas._libs.hashtable.PyObjectHashTable.get_item\n",
      "KeyError: 'Avg. Amount Outstanding'\n",
      "\n",
      "The above exception was the direct cause of the following exception:\n",
      "\n",
      "Traceback (most recent call last):\n",
      "  File \"/opt/anaconda3/lib/python3.11/site-packages/IPython/core/interactiveshell.py\", line 3553, in run_code\n",
      "    exec(code_obj, self.user_global_ns, self.user_ns)\n",
      "  File \"/var/folders/0p/k_s5xx913dsbt66x6g5ptqf00000gp/T/ipykernel_82217/2322785818.py\", line 1, in <module>\n",
      "    RESULTS.stats_bonds_adj()\n",
      "  File \"/Users/u1972481/Documents/dev/PyBondLab-Dev/PyBondLab/PyBondLab.py\", line 1034, in stats_bonds_adj\n",
      "  File \"/opt/anaconda3/lib/python3.11/site-packages/pandas/core/frame.py\", line 4102, in __getitem__\n",
      "    indexer = self.columns.get_loc(key)\n",
      "              ^^^^^^^^^^^^^^^^^^^^^^^^^\n",
      "  File \"/opt/anaconda3/lib/python3.11/site-packages/pandas/core/indexes/base.py\", line 3812, in get_loc\n",
      "    raise KeyError(key) from err\n",
      "KeyError: 'Avg. Amount Outstanding'\n",
      "\n",
      "During handling of the above exception, another exception occurred:\n",
      "\n",
      "Traceback (most recent call last):\n",
      "  File \"/opt/anaconda3/lib/python3.11/site-packages/IPython/core/interactiveshell.py\", line 2144, in showtraceback\n",
      "    stb = self.InteractiveTB.structured_traceback(\n",
      "          ^^^^^^^^^^^^^^^^^^^^^^^^^^^^^^^^^^^^^^^^\n",
      "  File \"/opt/anaconda3/lib/python3.11/site-packages/IPython/core/ultratb.py\", line 1435, in structured_traceback\n",
      "    return FormattedTB.structured_traceback(\n",
      "           ^^^^^^^^^^^^^^^^^^^^^^^^^^^^^^^^^\n",
      "  File \"/opt/anaconda3/lib/python3.11/site-packages/IPython/core/ultratb.py\", line 1326, in structured_traceback\n",
      "    return VerboseTB.structured_traceback(\n",
      "           ^^^^^^^^^^^^^^^^^^^^^^^^^^^^^^^\n",
      "  File \"/opt/anaconda3/lib/python3.11/site-packages/IPython/core/ultratb.py\", line 1173, in structured_traceback\n",
      "    formatted_exception = self.format_exception_as_a_whole(etype, evalue, etb, number_of_lines_of_context,\n",
      "                          ^^^^^^^^^^^^^^^^^^^^^^^^^^^^^^^^^^^^^^^^^^^^^^^^^^^^^^^^^^^^^^^^^^^^^^^^^^^^^^^^\n",
      "  File \"/opt/anaconda3/lib/python3.11/site-packages/IPython/core/ultratb.py\", line 1088, in format_exception_as_a_whole\n",
      "    frames.append(self.format_record(record))\n",
      "                  ^^^^^^^^^^^^^^^^^^^^^^^^^^\n",
      "  File \"/opt/anaconda3/lib/python3.11/site-packages/IPython/core/ultratb.py\", line 970, in format_record\n",
      "    frame_info.lines, Colors, self.has_colors, lvals\n",
      "    ^^^^^^^^^^^^^^^^\n",
      "  File \"/opt/anaconda3/lib/python3.11/site-packages/IPython/core/ultratb.py\", line 792, in lines\n",
      "    return self._sd.lines\n",
      "           ^^^^^^^^^^^^^^\n",
      "  File \"/opt/anaconda3/lib/python3.11/site-packages/stack_data/utils.py\", line 145, in cached_property_wrapper\n",
      "    value = obj.__dict__[self.func.__name__] = self.func(obj)\n",
      "                                               ^^^^^^^^^^^^^^\n",
      "  File \"/opt/anaconda3/lib/python3.11/site-packages/stack_data/core.py\", line 698, in lines\n",
      "    pieces = self.included_pieces\n",
      "             ^^^^^^^^^^^^^^^^^^^^\n",
      "  File \"/opt/anaconda3/lib/python3.11/site-packages/stack_data/utils.py\", line 145, in cached_property_wrapper\n",
      "    value = obj.__dict__[self.func.__name__] = self.func(obj)\n",
      "                                               ^^^^^^^^^^^^^^\n",
      "  File \"/opt/anaconda3/lib/python3.11/site-packages/stack_data/core.py\", line 649, in included_pieces\n",
      "    pos = scope_pieces.index(self.executing_piece)\n",
      "                             ^^^^^^^^^^^^^^^^^^^^\n",
      "  File \"/opt/anaconda3/lib/python3.11/site-packages/stack_data/utils.py\", line 145, in cached_property_wrapper\n",
      "    value = obj.__dict__[self.func.__name__] = self.func(obj)\n",
      "                                               ^^^^^^^^^^^^^^\n",
      "  File \"/opt/anaconda3/lib/python3.11/site-packages/stack_data/core.py\", line 628, in executing_piece\n",
      "    return only(\n",
      "           ^^^^^\n",
      "  File \"/opt/anaconda3/lib/python3.11/site-packages/executing/executing.py\", line 164, in only\n",
      "    raise NotOneValueFound('Expected one value, found 0')\n",
      "executing.executing.NotOneValueFound: Expected one value, found 0\n"
     ]
    }
   ],
   "source": [
    "RESULTS.stats_bonds_adj()"
   ]
  },
  {
   "cell_type": "code",
   "execution_count": null,
   "metadata": {},
   "outputs": [],
   "source": []
  }
 ],
 "metadata": {
  "kernelspec": {
   "display_name": "base",
   "language": "python",
   "name": "python3"
  },
  "language_info": {
   "codemirror_mode": {
    "name": "ipython",
    "version": 3
   },
   "file_extension": ".py",
   "mimetype": "text/x-python",
   "name": "python",
   "nbconvert_exporter": "python",
   "pygments_lexer": "ipython3",
   "version": "3.11.7"
  }
 },
 "nbformat": 4,
 "nbformat_minor": 2
}
