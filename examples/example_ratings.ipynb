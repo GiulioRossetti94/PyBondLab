{
 "cells": [
  {
   "cell_type": "code",
   "execution_count": 1,
   "metadata": {},
   "outputs": [],
   "source": [
    "# importing packages\n",
    "%matplotlib inline\n",
    "import numpy as np\n",
    "import pandas as pd\n",
    "import wrds\n",
    "import PyBondLab as pbl\n"
   ]
  },
  {
   "cell_type": "markdown",
   "metadata": {},
   "source": [
    "# Load the data\n",
    "we use `'ISSUE_ID'` column as the bond identifier and `'RET_L5M'` column for bond returns in the fit() method.\n",
    "Alternatively, you can rename columns as `\"ID\"` and `\"ret\"` and just call the .fit() method later"
   ]
  },
  {
   "cell_type": "code",
   "execution_count": 2,
   "metadata": {},
   "outputs": [
    {
     "name": "stdout",
     "output_type": "stream",
     "text": [
      "WRDS recommends setting up a .pgpass file.\n",
      "You can create this file yourself at any time with the create_pgpass_file() function.\n",
      "Loading library list...\n",
      "Done\n"
     ]
    }
   ],
   "source": [
    "# =============================================================================\n",
    "# Option 1: access data directly from WRDS\n",
    "# =============================================================================\n",
    "# Assumes you have a valid WRDS account and have set-up your cloud access #\n",
    "# See:\n",
    "# https://wrds-www.wharton.upenn.edu/pages/support/programming-wrds/programming-python/python-wrds-cloud/\n",
    "wrds_username = '' # Input your WRDS username\n",
    "db = wrds.Connection(wrds_username = wrds_username )\n",
    "\n",
    "tbl1 = db.raw_sql(\"\"\"SELECT  DATE, ISSUE_ID,CUSIP, RATING_NUM, RET_L5M,AMOUNT_OUTSTANDING,\n",
    "                                TMT, N_SP, PRICE_L5M                         \n",
    "                        FROM wrdsapps.bondret\n",
    "                  \"\"\")\n",
    "# Required because the WRDS data comes with \"duplicates\" in the index\n",
    "# does not affect data, but the \"index\" needs to be re-defined #                 \n",
    "tbl1 = tbl1.reset_index()\n",
    "tbl1['index'] = range(1,(len(tbl1)+1))\n",
    "\n",
    "# =============================================================================\n",
    "# Option 2: Load any bond dataset you have saved to file\n",
    "# =============================================================================\n",
    "# file = '' # Input your file name, assumed to be saved as .csv #\n",
    "# tbl1         =  pd.read_csv(file)\n",
    "\n",
    "tbl1['index'] = range(1,(len(tbl1)+1))\n",
    "# ============================================================================="
   ]
  },
  {
   "cell_type": "code",
   "execution_count": 3,
   "metadata": {},
   "outputs": [],
   "source": [
    "# Format the data\n",
    "tbl1.columns = tbl1.columns.str.upper()\n",
    "tbl1['date'] = pd.to_datetime(tbl1['DATE'])\n",
    "tbl1['AMOUNT_OUTSTANDING'] = np.abs(tbl1['AMOUNT_OUTSTANDING'])\n",
    "tbl1['PRICE_L5M'] = np.abs(tbl1['PRICE_L5M'])\n",
    "tbl1 = tbl1.sort_values(['ISSUE_ID','DATE'])\n",
    "\n",
    "# WRDS data \"starts\" officially on \"2002-08-31\"\n",
    "tbl1 = tbl1[tbl1['date'] >= \"2002-08-31\"]\n",
    "\n",
    "# Column used for value weigted returns\n",
    "tbl1['VW'] = (tbl1['PRICE_L5M'] * tbl1['AMOUNT_OUTSTANDING'])/1000\n"
   ]
  },
  {
   "cell_type": "markdown",
   "metadata": {},
   "source": [
    "Initialize the strategy. We want to sort bonds according to their rating in 5 portfolios. The strategy has a holding period of 1 month.\n",
    "The sorting is done with respect to the `RATING_NUM` column."
   ]
  },
  {
   "cell_type": "code",
   "execution_count": 4,
   "metadata": {},
   "outputs": [
    {
     "name": "stdout",
     "output_type": "stream",
     "text": [
      "-----------------------------------\n",
      "Initializing strategy (single sort):\n",
      "Holding period: 1 \n",
      "Number of portfolios: 5 \n",
      "Sorting on: RATING_NUM\n",
      "-----------------------------------\n"
     ]
    }
   ],
   "source": [
    "holding_period = 1             # holding period returns\n",
    "n_portf        = 5             # number of portfolios\n",
    "sort_var1      = 'RATING_NUM'  # sorting chararcteristic/variable\n",
    "# initialize the strategy\n",
    "single_sort = pbl.SingleSort(holding_period, sort_var1, n_portf)"
   ]
  },
  {
   "cell_type": "markdown",
   "metadata": {},
   "source": [
    "Next, we create a dictionary to input parameters.\n",
    "In the `\"strategy\"` key we input the strategy initialized before\n",
    "In the `\"rating\"` key we specify if we want to filter out bonds. Possible inputs are `None`,`\"IG\"`,`\"NIG\"` to include all bonds, investment grade bonds, or non investment-grade bonds respectively.\n",
    "\n",
    "if we want to apply filtering rules (see README):\n",
    "In the `\"filters\"` key we specify a dictionary. In this example, we exclude bonds whose returns are greater than 20%.\n",
    "\n",
    "Then use the StrategyConstruction with the data and the parameters to build the strategy"
   ]
  },
  {
   "cell_type": "code",
   "execution_count": 5,
   "metadata": {},
   "outputs": [],
   "source": [
    "# parameters\n",
    "params = {'strategy': single_sort,\n",
    "          'rating':None,\n",
    "          'filters':{\"adj\":\"trim\",\"level\":0.2},\n",
    "}\n",
    "\n",
    "data = tbl1.copy()\n",
    "# Fit the strategy to the data. Specify ID identifier and column of returns \n",
    "RESULTS = pbl.StrategyFormation(data, **params).fit(IDvar = \"ISSUE_ID\",RETvar = \"RET_L5M\")"
   ]
  },
  {
   "cell_type": "markdown",
   "metadata": {},
   "source": [
    "plot() can be used to visualize the cumulative performance of the strategies.\n",
    "If some filtering is applied, you can quickly compare the performance with ex ante and ex post exclusions"
   ]
  },
  {
   "cell_type": "code",
   "execution_count": 6,
   "metadata": {},
   "outputs": [
    {
     "data": {
      "text/plain": [
       "<Axes: title={'center': 'Equally-weighted cumulative performance'}, xlabel='Date', ylabel='Value ($)'>"
      ]
     },
     "execution_count": 6,
     "metadata": {},
     "output_type": "execute_result"
    },
    {
     "data": {
      "image/png": "[encoded data removed]",
      "text/plain": [
       "<Figure size 640x480 with 1 Axes>"
      ]
     },
     "metadata": {},
     "output_type": "display_data"
    }
   ],
   "source": [
    "RESULTS.plot()"
   ]
  },
  {
   "cell_type": "markdown",
   "metadata": {},
   "source": [
    "to retrive the long short portfolio returns use the get_long_short() method\n",
    "get_long_leg() and get_short_leg() methods are used to retrieve the long and short leg of the portfolio respectively.\n",
    "[get_long_leg_ex_post() and get_short_leg_ex_post() for the ex post counterpart]"
   ]
  },
  {
   "cell_type": "code",
   "execution_count": 7,
   "metadata": {},
   "outputs": [
    {
     "data": {
      "text/html": [
       "<div>\n",
       "<style scoped>\n",
       "    .dataframe tbody tr th:only-of-type {\n",
       "        vertical-align: middle;\n",
       "    }\n",
       "\n",
       "    .dataframe tbody tr th {\n",
       "        vertical-align: top;\n",
       "    }\n",
       "\n",
       "    .dataframe thead th {\n",
       "        text-align: right;\n",
       "    }\n",
       "</style>\n",
       "<table border=\"1\" class=\"dataframe\">\n",
       "  <thead>\n",
       "    <tr style=\"text-align: right;\">\n",
       "      <th></th>\n",
       "      <th>EWEA_ALL_1_trim_0.2</th>\n",
       "    </tr>\n",
       "  </thead>\n",
       "  <tbody>\n",
       "    <tr>\n",
       "      <th>2002-08-31</th>\n",
       "      <td>NaN</td>\n",
       "    </tr>\n",
       "    <tr>\n",
       "      <th>2002-09-30</th>\n",
       "      <td>-0.035760</td>\n",
       "    </tr>\n",
       "    <tr>\n",
       "      <th>2002-10-31</th>\n",
       "      <td>0.005161</td>\n",
       "    </tr>\n",
       "    <tr>\n",
       "      <th>2002-11-30</th>\n",
       "      <td>0.079828</td>\n",
       "    </tr>\n",
       "    <tr>\n",
       "      <th>2002-12-31</th>\n",
       "      <td>-0.000041</td>\n",
       "    </tr>\n",
       "    <tr>\n",
       "      <th>...</th>\n",
       "      <td>...</td>\n",
       "    </tr>\n",
       "    <tr>\n",
       "      <th>2023-08-31</th>\n",
       "      <td>0.006984</td>\n",
       "    </tr>\n",
       "    <tr>\n",
       "      <th>2023-09-30</th>\n",
       "      <td>0.012773</td>\n",
       "    </tr>\n",
       "    <tr>\n",
       "      <th>2023-10-31</th>\n",
       "      <td>0.008708</td>\n",
       "    </tr>\n",
       "    <tr>\n",
       "      <th>2023-11-30</th>\n",
       "      <td>-0.011556</td>\n",
       "    </tr>\n",
       "    <tr>\n",
       "      <th>2023-12-31</th>\n",
       "      <td>-0.008862</td>\n",
       "    </tr>\n",
       "  </tbody>\n",
       "</table>\n",
       "<p>257 rows × 1 columns</p>\n",
       "</div>"
      ],
      "text/plain": [
       "            EWEA_ALL_1_trim_0.2\n",
       "2002-08-31                  NaN\n",
       "2002-09-30            -0.035760\n",
       "2002-10-31             0.005161\n",
       "2002-11-30             0.079828\n",
       "2002-12-31            -0.000041\n",
       "...                         ...\n",
       "2023-08-31             0.006984\n",
       "2023-09-30             0.012773\n",
       "2023-10-31             0.008708\n",
       "2023-11-30            -0.011556\n",
       "2023-12-31            -0.008862\n",
       "\n",
       "[257 rows x 1 columns]"
      ]
     },
     "execution_count": 7,
     "metadata": {},
     "output_type": "execute_result"
    }
   ],
   "source": [
    "ew,vw = RESULTS.get_long_short()\n",
    "# ew_expost, vw_expost = RESULTS.get_long_short_expost()\n",
    "ew "
   ]
  },
  {
   "cell_type": "markdown",
   "metadata": {},
   "source": [
    "you can see some summary statistics of the bonds that are filtered out"
   ]
  },
  {
   "cell_type": "code",
   "execution_count": 8,
   "metadata": {},
   "outputs": [
    {
     "name": "stderr",
     "output_type": "stream",
     "text": [
      "/Users/u1972481/Documents/test/PyBondLab/PyBondLab/PyBondLab.py:709: SettingWithCopyWarning: \n",
      "A value is trying to be set on a copy of a slice from a DataFrame.\n",
      "Try using .loc[row_indexer,col_indexer] = value instead\n",
      "\n",
      "See the caveats in the documentation: https://pandas.pydata.org/pandas-docs/stable/user_guide/indexing.html#returning-a-view-versus-a-copy\n",
      "  df['rating_cat'] = np.where(df['RATING_NUM']>10, 'NIG','IG')\n"
     ]
    },
    {
     "data": {
      "text/html": [
       "<div>\n",
       "<style scoped>\n",
       "    .dataframe tbody tr th:only-of-type {\n",
       "        vertical-align: middle;\n",
       "    }\n",
       "\n",
       "    .dataframe tbody tr th {\n",
       "        vertical-align: top;\n",
       "    }\n",
       "\n",
       "    .dataframe thead th {\n",
       "        text-align: right;\n",
       "    }\n",
       "</style>\n",
       "<table border=\"1\" class=\"dataframe\">\n",
       "  <thead>\n",
       "    <tr style=\"text-align: right;\">\n",
       "      <th></th>\n",
       "      <th># Bonds</th>\n",
       "      <th>Avg. AMT. OUT</th>\n",
       "      <th>Avg. TMT</th>\n",
       "      <th>Avg. Ret</th>\n",
       "      <th>Std. Dev.</th>\n",
       "      <th>Min</th>\n",
       "      <th>25$^{th}$</th>\n",
       "      <th>Median</th>\n",
       "      <th>75$^{th}$</th>\n",
       "      <th>Max</th>\n",
       "    </tr>\n",
       "  </thead>\n",
       "  <tbody>\n",
       "    <tr>\n",
       "      <th>IG</th>\n",
       "      <td>1731 (36.28%)</td>\n",
       "      <td>393,970</td>\n",
       "      <td>10.336</td>\n",
       "      <td>33.91%</td>\n",
       "      <td>18.44%</td>\n",
       "      <td>20.01%</td>\n",
       "      <td>22.76%</td>\n",
       "      <td>27.25%</td>\n",
       "      <td>36.30%</td>\n",
       "      <td>100.00%</td>\n",
       "    </tr>\n",
       "    <tr>\n",
       "      <th>NIG</th>\n",
       "      <td>3040 (63.72%)</td>\n",
       "      <td>432,895</td>\n",
       "      <td>7.282</td>\n",
       "      <td>38.67%</td>\n",
       "      <td>20.95%</td>\n",
       "      <td>20.00%</td>\n",
       "      <td>23.97%</td>\n",
       "      <td>30.55%</td>\n",
       "      <td>45.20%</td>\n",
       "      <td>100.00%</td>\n",
       "    </tr>\n",
       "    <tr>\n",
       "      <th>ALL</th>\n",
       "      <td>4771 (100.00%)</td>\n",
       "      <td>418,773</td>\n",
       "      <td>8.390</td>\n",
       "      <td>36.94%</td>\n",
       "      <td>20.20%</td>\n",
       "      <td>20.00%</td>\n",
       "      <td>23.53%</td>\n",
       "      <td>29.00%</td>\n",
       "      <td>41.89%</td>\n",
       "      <td>100.00%</td>\n",
       "    </tr>\n",
       "  </tbody>\n",
       "</table>\n",
       "</div>"
      ],
      "text/plain": [
       "            # Bonds Avg. AMT. OUT  Avg. TMT Avg. Ret Std. Dev.     Min  \\\n",
       "IG    1731 (36.28%)       393,970    10.336   33.91%    18.44%  20.01%   \n",
       "NIG   3040 (63.72%)       432,895     7.282   38.67%    20.95%  20.00%   \n",
       "ALL  4771 (100.00%)       418,773     8.390   36.94%    20.20%  20.00%   \n",
       "\n",
       "    25$^{th}$  Median 75$^{th}$      Max  \n",
       "IG     22.76%  27.25%    36.30%  100.00%  \n",
       "NIG    23.97%  30.55%    45.20%  100.00%  \n",
       "ALL    23.53%  29.00%    41.89%  100.00%  "
      ]
     },
     "execution_count": 8,
     "metadata": {},
     "output_type": "execute_result"
    }
   ],
   "source": [
    "RESULTS.stats_bonds_adj()"
   ]
  },
  {
   "cell_type": "code",
   "execution_count": null,
   "metadata": {},
   "outputs": [],
   "source": []
  }
 ],
 "metadata": {
  "kernelspec": {
   "display_name": "base",
   "language": "python",
   "name": "python3"
  },
  "language_info": {
   "codemirror_mode": {
    "name": "ipython",
    "version": 3
   },
   "file_extension": ".py",
   "mimetype": "text/x-python",
   "name": "python",
   "nbconvert_exporter": "python",
   "pygments_lexer": "ipython3",
   "version": "3.11.7"
  }
 },
 "nbformat": 4,
 "nbformat_minor": 2
}
